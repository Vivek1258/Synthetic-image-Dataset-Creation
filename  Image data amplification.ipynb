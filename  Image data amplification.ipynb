{
 "cells": [
  {
   "cell_type": "code",
   "execution_count": 1,
   "metadata": {},
   "outputs": [
    {
     "data": {
      "text/plain": [
       "['Banana 1',\n",
       " 'Banana 120191017_200338.jpg',\n",
       " 'Banana 120191017_200351.jpg',\n",
       " 'Banana 120191017_200358.jpg',\n",
       " 'Banana 120191017_200403.jpg',\n",
       " 'Banana 120191017_200409.jpg',\n",
       " 'Banana 120191017_200416.jpg',\n",
       " 'Banana 120191017_200430.jpg',\n",
       " 'Banana 120191017_200435.jpg',\n",
       " 'Banana 120191017_200442.jpg',\n",
       " 'Banana 120191017_200451.jpg',\n",
       " 'Banana 120191017_200454.jpg',\n",
       " 'Banana 120191017_200500.jpg',\n",
       " 'Banana 120191017_200505.jpg',\n",
       " 'Banana 120191017_200510.jpg',\n",
       " 'Banana 120191017_200518.jpg',\n",
       " 'Banana 120191017_200526.jpg',\n",
       " 'Banana 120191017_200533.jpg',\n",
       " 'Banana 120191017_200544.jpg',\n",
       " 'Banana 120191017_200550.jpg',\n",
       " 'Banana 120191017_200602.jpg',\n",
       " 'Banana 120191017_200608.jpg',\n",
       " 'Banana 120191017_200617.jpg',\n",
       " 'Banana 120191017_200624.jpg',\n",
       " 'Banana 120191017_200631.jpg',\n",
       " 'Banana 120191017_200703.jpg',\n",
       " 'Banana 120191017_200707.jpg',\n",
       " 'Banana 120191017_200713.jpg',\n",
       " 'Banana 120191017_200719.jpg',\n",
       " 'Banana 120191017_200734.jpg',\n",
       " 'banana2',\n",
       " 'banana3',\n",
       " 'banana4']"
      ]
     },
     "execution_count": 1,
     "metadata": {},
     "output_type": "execute_result"
    }
   ],
   "source": [
    "from PIL import Image \n",
    "import os \n",
    "import argparse\n",
    "os.listdir(\"F://EDI_Dataset\")"
   ]
  },
  {
   "cell_type": "code",
   "execution_count": 7,
   "metadata": {},
   "outputs": [],
   "source": [
    "def IMG(directory , size):\n",
    "     for img in os.listdir(directory):\n",
    "            im = Image.open(directory+ \"//\" +img)\n",
    "            r_img1 = im.resize(size , Image.ANTIALIAS)\n",
    "            r_img2 = r_img1.rotate(30)\n",
    "            r_img3 = r_img1.rotate(45)\n",
    "            r_img4 = r_img1.rotate(60)\n",
    "            r_img5 = (r_img1.rotate(90)).resize((size[1] , size[0] ) , Image.ANTIALIAS)\n",
    "            r_img6 = r_img1.rotate(120)\n",
    "            r_img7 = r_img1.rotate(135)\n",
    "            r_img8 = r_img1.rotate(180)\n",
    "            r_img1.save(directory+ \"//\" + \"1\" +img )\n",
    "            r_img2.save(directory+ \"//\"  + \"2\"+img)\n",
    "            r_img3.save(directory+ \"//\"  + \"3\" +img)\n",
    "            r_img4.save(directory+ \"//\"  + \"4\" +img)\n",
    "            r_img5.save(directory+ \"//\"  + \"5\" +img)\n",
    "            r_img6.save(directory+ \"//\"  + \"6\" +img)\n",
    "            r_img7.save(directory+ \"//\"   + \"7\"+img)\n",
    "            r_img8.save(directory+ \"//\"   + \"8\"+img)\n",
    "\n",
    "        \n",
    "        \n",
    "        "
   ]
  },
  {
   "cell_type": "code",
   "execution_count": 12,
   "metadata": {},
   "outputs": [
    {
     "name": "stdout",
     "output_type": "stream",
     "text": [
      "enter the size :\n",
      "400 256\n",
      "Enter the directory\n",
      "F://EDI_Dataset//banana4\n"
     ]
    }
   ],
   "source": [
    "if __name__  == \"__main__\":\n",
    "    print(\"enter the size :\")\n",
    "    s1,s2 = input().split()\n",
    "    size = (int(s1) , int(s2))\n",
    "    print(\"Enter the directory\")\n",
    "    directory = input()\n",
    "    IMG(directory , size)\n",
    "    \n",
    "    "
   ]
  },
  {
   "cell_type": "code",
   "execution_count": null,
   "metadata": {},
   "outputs": [],
   "source": []
  }
 ],
 "metadata": {
  "kernelspec": {
   "display_name": "Python 3",
   "language": "python",
   "name": "python3"
  },
  "language_info": {
   "codemirror_mode": {
    "name": "ipython",
    "version": 3
   },
   "file_extension": ".py",
   "mimetype": "text/x-python",
   "name": "python",
   "nbconvert_exporter": "python",
   "pygments_lexer": "ipython3",
   "version": "3.7.5"
  }
 },
 "nbformat": 4,
 "nbformat_minor": 2
}
